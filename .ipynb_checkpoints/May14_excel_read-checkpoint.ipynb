{
 "cells": [
  {
   "cell_type": "code",
   "execution_count": 41,
   "metadata": {},
   "outputs": [
    {
     "name": "stdout",
     "output_type": "stream",
     "text": [
      "Karan can NOT drink!!\n",
      "Bharath can drink!!\n",
      "Hasan can drink!!\n"
     ]
    }
   ],
   "source": [
    "import openpyxl\n",
    "\n",
    "book = openpyxl.load_workbook(\"sample.xlsx\")\n",
    "\n",
    "sheet = book.active\n",
    "\n",
    "data = {}\n",
    "\n",
    "count = 0\n",
    "\n",
    "while True:\n",
    "    age = sheet[f'B{count+2}']\n",
    "    if age.value == None:\n",
    "        break\n",
    "    name = sheet[f'A{count+2}']\n",
    "    if age.value >= 21:\n",
    "        print(f'{name.value} can drink!!')\n",
    "    else:\n",
    "        print(f'{name.value} can NOT drink!!')\n",
    "    count += 1\n",
    "# a2 = sheet['D1']\n",
    "# a3 = sheet.cell(row = 3, column = 1)\n",
    "\n",
    "# print(a1.value)\n",
    "# print(a2.value)\n",
    "# print(a3.value)"
   ]
  }
 ],
 "metadata": {
  "kernelspec": {
   "display_name": "Python 3",
   "language": "python",
   "name": "python3"
  },
  "language_info": {
   "codemirror_mode": {
    "name": "ipython",
    "version": 3
   },
   "file_extension": ".py",
   "mimetype": "text/x-python",
   "name": "python",
   "nbconvert_exporter": "python",
   "pygments_lexer": "ipython3",
   "version": "3.6.7"
  }
 },
 "nbformat": 4,
 "nbformat_minor": 2
}
