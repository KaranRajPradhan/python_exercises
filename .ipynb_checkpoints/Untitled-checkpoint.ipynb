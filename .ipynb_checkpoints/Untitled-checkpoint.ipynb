{
 "cells": [
  {
   "cell_type": "code",
   "execution_count": null,
   "metadata": {},
   "outputs": [],
   "source": [
    "from telegram.ext import Updater, InlineQueryHandler, CommandHandler\n",
    "import requests\n",
    "import re\n",
    "from bs4 import BeautifulSoup as bs\n",
    "import random\n",
    "import json\n",
    "\n",
    "def get_url_weather():\n",
    "    website_url = \"https://www.metaweather.com/api/location/2295420/\"\n",
    "    website_data = requests.get(website_url).json()\n",
    "    print(website_data)    \n",
    "    current_weather = str(response['consolidated_weather'][0]['the_temp'])\n",
    "    # url = website_data[0][\"the_temp\"]\n",
    "    # parsed_data = json.loads(website_data)\n",
    " \n",
    "    # weather_data_dump = requests.get(weather_link).json()\n",
    "    print(current_weather)\n",
    "    return(current_weather)\n",
    "    # return(weather_data_dump[0][\"the_temp\"])\n",
    "    # parsed_weather_data = json.loads(weather_data_dump)\n",
    "    # weather_consolidated_data = parsed_weather_data[\"consolidated_weather\"]\n",
    "    \n",
    "get_url_weather()"
   ]
  }
 ],
 "metadata": {
  "kernelspec": {
   "display_name": "Python 3",
   "language": "python",
   "name": "python3"
  },
  "language_info": {
   "codemirror_mode": {
    "name": "ipython",
    "version": 3
   },
   "file_extension": ".py",
   "mimetype": "text/x-python",
   "name": "python",
   "nbconvert_exporter": "python",
   "pygments_lexer": "ipython3",
   "version": "3.6.7"
  }
 },
 "nbformat": 4,
 "nbformat_minor": 2
}
