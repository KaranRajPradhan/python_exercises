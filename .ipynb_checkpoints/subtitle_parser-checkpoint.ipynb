{
 "cells": [
  {
   "cell_type": "code",
   "execution_count": 1,
   "metadata": {},
   "outputs": [
    {
     "name": "stdout",
     "output_type": "stream",
     "text": [
      "[<li class=\"media media-movie-clickable\">\n",
      "<div class=\"media-left media-middle\"> <a href=\"/movie-imdb/tt0808417\" itemprop=\"url\"> <img alt=\"Persepolis\" class=\"media-object\" itemprop=\"image\" src=\"//www.yifysubtitles.com/images/movies-small/movie-11637.jpg\"/> </a> </div>\n",
      "<div class=\"media-body\">\n",
      "<a href=\"/movie-imdb/tt0808417\">\n",
      "<div class=\"col-xs-12\">\n",
      "<h3 class=\"media-heading\" itemprop=\"name\">Persepolis</h3>\n",
      "</div>\n",
      "<div class=\"col-sm-6 col-xs-12 movie-genre\" itemprop=\"genre\">Animation, Biography, Drama, War</div>\n",
      "<div class=\"col-sm-6 col-xs-12 movie-genre\">\n",
      "<span class=\"movinfo-section\">2007<small>year</small></span>\n",
      "<span class=\"movinfo-section\">95<small>min</small></span>\n",
      "<span class=\"movinfo-section\" style=\"color:#009900\">8.1<small>IMDB</small></span>\n",
      "</div>\n",
      "<div class=\"col-xs-12\">\n",
      "<span class=\"movie-actors\" itemprop=\"actors\">Chiara Mastroianni, Danielle Darrieux, Catherine Deneuve, Simon Abkarian</span>\n",
      "</div>\n",
      "<div class=\"col-xs-12\">\n",
      "<span class=\"movie-desc\" itemprop=\"description\">A precocious and outspoken Iranian girl grows up during the Islamic Revolution.</span>\n",
      "</div>\n",
      "</a>\n",
      "</div>\n",
      "</li>]\n"
     ]
    }
   ],
   "source": [
    "import requests\n",
    "from bs4 import BeautifulSoup as bs\n",
    "\n",
    "# movie_name = input(\"Enter movie name: \")\n",
    "movie_name = \"persepolis\"\n",
    "\n",
    "link = f\"https://www.yifysubtitles.com/search?q={movie_name}\"\n",
    "\n",
    "search_result_html = requests.get(link).content\n",
    "\n",
    "search_result_soup = bs(search_result_html)\n",
    "\n",
    "result_list = search_result_soup.find_all(\"li\", {\"class\":\"media-movie-clickable\"})\n",
    "\n",
    "print(result_list)"
   ]
  },
  {
   "cell_type": "code",
   "execution_count": 20,
   "metadata": {},
   "outputs": [
    {
     "data": {
      "text/plain": [
       "'https://www.yifysubtitles.com/subtitle/iron-man-english-yify-1153.zip'"
      ]
     },
     "execution_count": 20,
     "metadata": {},
     "output_type": "execute_result"
    }
   ],
   "source": [
    "movie_page = \"https://www.yifysubtitles.com/movie-imdb/tt0371746\"\n",
    "\n",
    "def get_english_sub(movie_page):\n",
    "    \n",
    "    movie_page_html = requests.get(movie_page).content\n",
    "\n",
    "    movie_page_soup = bs(movie_page_html)\n",
    "\n",
    "    sub_table = movie_page_soup.find(\"table\", {\"class\":\"other-subs\"})\n",
    "\n",
    "    all_subs = sub_table.find_all(\"tr\")\n",
    "\n",
    "    movie_sub = all_subs[1]\n",
    "\n",
    "    for movie_sub in all_subs[1:]:\n",
    "        language = movie_sub.find(\"span\", {\"class\":\"sub-lang\"}).text\n",
    "        rating = movie_sub.find(\"td\", {\"class\":\"rating-cell\"}).text\n",
    "        download_page = movie_sub.find(\"a\",{\"class\":\"subtitle-download\"}).get(\"href\")\n",
    "        if \"English\" in language:\n",
    "#             print(f\"{language}   {rating}\")\n",
    "            our_sub_page = download_page\n",
    "            break\n",
    "\n",
    "    return(our_sub_page)\n",
    "\n",
    "def get_download_link(our_sub_page):\n",
    "    download_page = \"https://www.yifysubtitles.com\" + our_sub_page\n",
    "    sub_page_html = requests.get(download_page).content\n",
    "    sub_page_soup = bs(sub_page_html)\n",
    "    \n",
    "    download_link = sub_page_soup.find(\"a\", {\"class\":\"btn-icon download-subtitle\"}).get(\"href\")\n",
    "    \n",
    "    return(download_link)\n",
    "    \n",
    "    \n",
    "    \n",
    "\n",
    "# get_english_sub(movie_page)\n",
    "get_download_link(get_english_sub(movie_page))\n"
   ]
  },
  {
   "cell_type": "code",
   "execution_count": null,
   "metadata": {},
   "outputs": [],
   "source": []
  }
 ],
 "metadata": {
  "kernelspec": {
   "display_name": "Python 3",
   "language": "python",
   "name": "python3"
  },
  "language_info": {
   "codemirror_mode": {
    "name": "ipython",
    "version": 3
   },
   "file_extension": ".py",
   "mimetype": "text/x-python",
   "name": "python",
   "nbconvert_exporter": "python",
   "pygments_lexer": "ipython3",
   "version": "3.6.7"
  }
 },
 "nbformat": 4,
 "nbformat_minor": 2
}
