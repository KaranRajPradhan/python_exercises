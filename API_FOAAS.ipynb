{
 "cells": [
  {
   "cell_type": "code",
   "execution_count": 7,
   "metadata": {},
   "outputs": [
    {
     "name": "stdout",
     "output_type": "stream",
     "text": [
      "Enter your name: afknl\n",
      "<meta charset=\"utf-8\"/>\n"
     ]
    }
   ],
   "source": [
    "import requests\n",
    "import json\n",
    "from bs4 import BeautifulSoup as bs\n",
    "\n",
    "import pprint\n",
    "\n",
    "\n",
    "website_url = \"https://www.foaas.com\"\n",
    "search_api = \"/fascinating/{}\"\n",
    "\n",
    "city = input(\"Enter your name: \")\n",
    "\n",
    "search_api_city = search_api.format(city)\n",
    "search_api_final_link = website_url + search_api_city\n",
    "\n",
    "website_data = requests.get(search_api_final_link).content\n",
    "soup = bs(website_data)\n",
    "\n",
    "data = soup.find(\"meta\")\n",
    "\n",
    "print(data)\n",
    "\n",
    "\n",
    "# print(parsed_data)\n",
    "\n",
    "# weather_url = \"https://www.metaweather.com/api/location/\" + str(parsed_data[0][\"woeid\"])\n",
    "\n",
    "# website_data = requests.get(weather_url).content\n",
    "\n",
    "# parsed_weather = json.loads(website_data)\n",
    "\n",
    "# # for i in range(6):\n",
    "# #     print(f\"Day{i} weather: \")\n",
    "# #     weather_data = parsed_weather[\"consolidated_weather\"][i]\n",
    "# #     pprint.pprint(weather_data)\n",
    "\n",
    "# if parsed_weather[\"consolidated_weather\"][0][\"humidity\"] > 80:\n",
    "# #     print(\"RAIN RAIN GO AWAY, COME AGAIN ANOTHER CENTURY\")\n",
    "#     rain = True\n",
    "# else:\n",
    "# #     print(\"G'DAY MATE!\")\n",
    "#     rain = False\n",
    "\n",
    "# if parsed_weather[\"consolidated_weather\"][0][\"max_temp\"] > 35:\n",
    "#     hot = True\n",
    "# else:\n",
    "#     hot = False\n",
    "    \n",
    "# if rain == True and hot == True:\n",
    "#     print(\"HOW DOES IT RAIN WHEN IT'S SO HOT?\")\n",
    "# elif rain == True and hot == False:\n",
    "#     print(\"CAN I BORROW A BED FOR A DAY?\")\n",
    "# elif rain == False and hot == True:\n",
    "#     print(\"KOI DERMI COOL DO YAAR\")\n",
    "# else:\n",
    "#     print(\"DERMI COOL KISNE LAGAYA?\")"
   ]
  }
 ],
 "metadata": {
  "kernelspec": {
   "display_name": "Python 3",
   "language": "python",
   "name": "python3"
  },
  "language_info": {
   "codemirror_mode": {
    "name": "ipython",
    "version": 3
   },
   "file_extension": ".py",
   "mimetype": "text/x-python",
   "name": "python",
   "nbconvert_exporter": "python",
   "pygments_lexer": "ipython3",
   "version": "3.6.7"
  }
 },
 "nbformat": 4,
 "nbformat_minor": 2
}
