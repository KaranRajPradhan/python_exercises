{
 "cells": [
  {
   "cell_type": "code",
   "execution_count": 44,
   "metadata": {},
   "outputs": [
    {
     "name": "stdout",
     "output_type": "stream",
     "text": [
      "Downloading https://imgs.xkcd.com/comics/barrel_cropped_(1).jpg\n",
      "Downloaded 10.0%\n",
      "Downloading https://imgs.xkcd.com/comics/tree_cropped_(1).jpg\n",
      "Downloaded 20.0%\n",
      "Downloading https://imgs.xkcd.com/comics/island_color.jpg\n",
      "Downloaded 30.0%\n",
      "Downloading https://imgs.xkcd.com/comics/landscape_cropped_(1).jpg\n",
      "Downloaded 40.0%\n",
      "Downloading https://imgs.xkcd.com/comics/blownapart_color.jpg\n",
      "Downloaded 50.0%\n",
      "Downloading https://imgs.xkcd.com/comics/irony_color.jpg\n",
      "Downloaded 60.0%\n",
      "Downloading https://imgs.xkcd.com/comics/girl_sleeping_noline_(1).jpg\n",
      "Downloaded 70.0%\n",
      "Downloading https://imgs.xkcd.com/comics/red_spiders_small.jpg\n",
      "Downloaded 80.0%\n",
      "Downloading https://imgs.xkcd.com/comics/firefly.jpg\n",
      "Downloaded 90.0%\n",
      "Downloading https://imgs.xkcd.com/comics/pi.jpg\n",
      "Downloaded 100.0%\n",
      "Total size of files downloaded: 512.10546875kB\n"
     ]
    }
   ],
   "source": [
    "import requests\n",
    "from bs4 import BeautifulSoup as bs\n",
    "import os.path\n",
    "\n",
    "TOTAL_NUM = 10\n",
    "TOTAL_DOWNLOAD_SIZE = [0]\n",
    "\n",
    "\n",
    "def get_image_url(link):\n",
    "    html_data = requests.get(link).content\n",
    "    soup = bs(html_data)\n",
    "\n",
    "    image_div = soup.find(\"div\", {\"id\":\"comic\"})\n",
    "    image_url = image_div.find(\"img\").get(\"src\")\n",
    "    final_link = \"https:\" + image_url\n",
    "\n",
    "    return final_link\n",
    "\n",
    "\n",
    "def get_filesize(file_name):\n",
    "    download_size = os.path.getsize(file_name)\n",
    "    return download_size\n",
    "    \n",
    "    \n",
    "\n",
    "def download_image(image_url):\n",
    "    response = requests.get(image_url)\n",
    "    if response.status_code != 200:\n",
    "        print(\"Link Broken!\")\n",
    "        return 1\n",
    "    else:\n",
    "        image_data = requests.get(image_url).content\n",
    "        file_name = image_url.split(\"/\")[-1]\n",
    "        if os.path.exists(file_name):\n",
    "            print(\"File already exists!\")\n",
    "        else:\n",
    "            file = open(file_name, \"wb\")\n",
    "            file.write(image_data)\n",
    "            file.close()\n",
    "            TOTAL_DOWNLOAD_SIZE[0] += get_filesize(file_name)\n",
    "            \n",
    "\n",
    "    return 0\n",
    "\n",
    "def get_percent(current, total):\n",
    "    \n",
    "    percent = (current / total) * 100    \n",
    "    return percent\n",
    "\n",
    "\n",
    "def main():\n",
    "    total_size = 0\n",
    "    for joke_num in range(1, TOTAL_NUM + 1):\n",
    "        link = f\"https://xkcd.com/{joke_num}/\"\n",
    "        \n",
    "        image_url = get_image_url(link)\n",
    "        print(f\"Downloading {image_url}\")\n",
    "        \n",
    "        download_image(image_url)\n",
    "        \n",
    "        percent = get_percent(joke_num, TOTAL_NUM)\n",
    "        print(f\"Downloaded {percent}%\")\n",
    "        \n",
    "    print(f\"Total size of files downloaded: {TOTAL_DOWNLOAD_SIZE[0] / 1024} kB\")\n",
    "        \n",
    "\n",
    "if __name__ == \"__main__\":\n",
    "    try:\n",
    "        main()\n",
    "    except requests.exceptions.ConnectionError:\n",
    "        print(\"No Internet Connection!\")"
   ]
  },
  {
   "cell_type": "code",
   "execution_count": 16,
   "metadata": {},
   "outputs": [
    {
     "name": "stdout",
     "output_type": "stream",
     "text": [
      "barrel_cropped_(1).jpg\n"
     ]
    },
    {
     "data": {
      "text/plain": [
       "0"
      ]
     },
     "execution_count": 16,
     "metadata": {},
     "output_type": "execute_result"
    }
   ],
   "source": []
  }
 ],
 "metadata": {
  "kernelspec": {
   "display_name": "Python 3",
   "language": "python",
   "name": "python3"
  },
  "language_info": {
   "codemirror_mode": {
    "name": "ipython",
    "version": 3
   },
   "file_extension": ".py",
   "mimetype": "text/x-python",
   "name": "python",
   "nbconvert_exporter": "python",
   "pygments_lexer": "ipython3",
   "version": "3.6.7"
  }
 },
 "nbformat": 4,
 "nbformat_minor": 2
}
