{
 "cells": [
  {
   "cell_type": "code",
   "execution_count": 1,
   "metadata": {},
   "outputs": [
    {
     "name": "stdout",
     "output_type": "stream",
     "text": [
      "{'consolidated_weather': [{'id': 4508571079278592, 'weather_state_name': 'Heavy Cloud', 'weather_state_abbr': 'hc', 'wind_direction_compass': 'WSW', 'created': '2019-05-13T11:29:07.608510Z', 'applicable_date': '2019-05-13', 'min_temp': 24.9, 'max_temp': 33.765, 'the_temp': 33.19, 'wind_speed': 2.689085762878125, 'wind_direction': 248.44024178906994, 'air_pressure': 1009.155, 'humidity': 50, 'visibility': 8.265479599141017, 'predictability': 71}, {'id': 6617134471839744, 'weather_state_name': 'Heavy Cloud', 'weather_state_abbr': 'hc', 'wind_direction_compass': 'NW', 'created': '2019-05-13T11:29:10.682167Z', 'applicable_date': '2019-05-14', 'min_temp': 24.205, 'max_temp': 34.400000000000006, 'the_temp': 33.61, 'wind_speed': 3.2504131938704632, 'wind_direction': 312.33975309425784, 'air_pressure': 1008.5450000000001, 'humidity': 42, 'visibility': 13.486240356319096, 'predictability': 71}, {'id': 6313180374499328, 'weather_state_name': 'Light Cloud', 'weather_state_abbr': 'lc', 'wind_direction_compass': 'WNW', 'created': '2019-05-13T11:29:13.425639Z', 'applicable_date': '2019-05-15', 'min_temp': 22.935000000000002, 'max_temp': 34.085, 'the_temp': 34.035, 'wind_speed': 2.606378789403218, 'wind_direction': 282.5162481440625, 'air_pressure': 1009.225, 'humidity': 41, 'visibility': 13.69284627773801, 'predictability': 70}, {'id': 5339010589261824, 'weather_state_name': 'Light Cloud', 'weather_state_abbr': 'lc', 'wind_direction_compass': 'WNW', 'created': '2019-05-13T11:29:16.762247Z', 'applicable_date': '2019-05-16', 'min_temp': 23.310000000000002, 'max_temp': 34.615, 'the_temp': 34.665, 'wind_speed': 2.5489379770805165, 'wind_direction': 289.8287196469617, 'air_pressure': 1009.44, 'humidity': 39, 'visibility': 13.607407738805376, 'predictability': 70}, {'id': 5864749952663552, 'weather_state_name': 'Heavy Cloud', 'weather_state_abbr': 'hc', 'wind_direction_compass': 'WNW', 'created': '2019-05-13T11:29:19.721802Z', 'applicable_date': '2019-05-17', 'min_temp': 23.775, 'max_temp': 35.405, 'the_temp': 35.195, 'wind_speed': 2.2159840222434317, 'wind_direction': 297.7702593817653, 'air_pressure': 1008.55, 'humidity': 39, 'visibility': 13.683836395450568, 'predictability': 71}, {'id': 6382069401780224, 'weather_state_name': 'Heavy Cloud', 'weather_state_abbr': 'hc', 'wind_direction_compass': 'S', 'created': '2019-05-13T11:29:23.016369Z', 'applicable_date': '2019-05-18', 'min_temp': 24.759999999999998, 'max_temp': 34.495000000000005, 'the_temp': 34.62, 'wind_speed': 1.4536009703332538, 'wind_direction': 176.0, 'air_pressure': 1008.2, 'humidity': 43, 'visibility': 9.997862483098704, 'predictability': 71}], 'time': '2019-05-13T19:20:28.980900+05:30', 'sun_rise': '2019-05-13T05:54:50.349048+05:30', 'sun_set': '2019-05-13T18:37:01.675858+05:30', 'timezone_name': 'LMT', 'parent': {'title': 'India', 'location_type': 'Country', 'woeid': 23424848, 'latt_long': '21.786600,82.794762'}, 'sources': [{'title': 'BBC', 'slug': 'bbc', 'url': 'http://www.bbc.co.uk/weather/', 'crawl_rate': 180}, {'title': 'Forecast.io', 'slug': 'forecast-io', 'url': 'http://forecast.io/', 'crawl_rate': 480}, {'title': 'Met Office', 'slug': 'met-office', 'url': 'http://www.metoffice.gov.uk/', 'crawl_rate': 180}, {'title': 'OpenWeatherMap', 'slug': 'openweathermap', 'url': 'http://openweathermap.org/', 'crawl_rate': 360}, {'title': 'Weather Underground', 'slug': 'wunderground', 'url': 'https://www.wunderground.com/?apiref=fc30dc3cd224e19b', 'crawl_rate': 720}, {'title': 'World Weather Online', 'slug': 'world-weather-online', 'url': 'http://www.worldweatheronline.com/', 'crawl_rate': 360}, {'title': 'Yahoo', 'slug': 'yahoo', 'url': 'http://weather.yahoo.com/', 'crawl_rate': 180}], 'title': 'Bangalore', 'location_type': 'City', 'woeid': 2295420, 'latt_long': '12.955800,77.620979', 'timezone': 'Asia/Kolkata'}\n"
     ]
    },
    {
     "ename": "NameError",
     "evalue": "name 'response' is not defined",
     "output_type": "error",
     "traceback": [
      "\u001b[0;31m---------------------------------------------------------------------------\u001b[0m",
      "\u001b[0;31mNameError\u001b[0m                                 Traceback (most recent call last)",
      "\u001b[0;32m<ipython-input-1-82023ed4763c>\u001b[0m in \u001b[0;36m<module>\u001b[0;34m\u001b[0m\n\u001b[1;32m     21\u001b[0m     \u001b[0;31m# weather_consolidated_data = parsed_weather_data[\"consolidated_weather\"]\u001b[0m\u001b[0;34m\u001b[0m\u001b[0;34m\u001b[0m\u001b[0;34m\u001b[0m\u001b[0m\n\u001b[1;32m     22\u001b[0m \u001b[0;34m\u001b[0m\u001b[0m\n\u001b[0;32m---> 23\u001b[0;31m \u001b[0mget_url_weather\u001b[0m\u001b[0;34m(\u001b[0m\u001b[0;34m)\u001b[0m\u001b[0;34m\u001b[0m\u001b[0;34m\u001b[0m\u001b[0m\n\u001b[0m",
      "\u001b[0;32m<ipython-input-1-82023ed4763c>\u001b[0m in \u001b[0;36mget_url_weather\u001b[0;34m()\u001b[0m\n\u001b[1;32m     10\u001b[0m     \u001b[0mwebsite_data\u001b[0m \u001b[0;34m=\u001b[0m \u001b[0mrequests\u001b[0m\u001b[0;34m.\u001b[0m\u001b[0mget\u001b[0m\u001b[0;34m(\u001b[0m\u001b[0mwebsite_url\u001b[0m\u001b[0;34m)\u001b[0m\u001b[0;34m.\u001b[0m\u001b[0mjson\u001b[0m\u001b[0;34m(\u001b[0m\u001b[0;34m)\u001b[0m\u001b[0;34m\u001b[0m\u001b[0;34m\u001b[0m\u001b[0m\n\u001b[1;32m     11\u001b[0m     \u001b[0mprint\u001b[0m\u001b[0;34m(\u001b[0m\u001b[0mwebsite_data\u001b[0m\u001b[0;34m)\u001b[0m\u001b[0;34m\u001b[0m\u001b[0;34m\u001b[0m\u001b[0m\n\u001b[0;32m---> 12\u001b[0;31m     \u001b[0mcurrent_weather\u001b[0m \u001b[0;34m=\u001b[0m \u001b[0mstr\u001b[0m\u001b[0;34m(\u001b[0m\u001b[0mresponse\u001b[0m\u001b[0;34m[\u001b[0m\u001b[0;34m'consolidated_weather'\u001b[0m\u001b[0;34m]\u001b[0m\u001b[0;34m[\u001b[0m\u001b[0;36m0\u001b[0m\u001b[0;34m]\u001b[0m\u001b[0;34m[\u001b[0m\u001b[0;34m'the_temp'\u001b[0m\u001b[0;34m]\u001b[0m\u001b[0;34m)\u001b[0m\u001b[0;34m\u001b[0m\u001b[0;34m\u001b[0m\u001b[0m\n\u001b[0m\u001b[1;32m     13\u001b[0m     \u001b[0;31m# url = website_data[0][\"the_temp\"]\u001b[0m\u001b[0;34m\u001b[0m\u001b[0;34m\u001b[0m\u001b[0;34m\u001b[0m\u001b[0m\n\u001b[1;32m     14\u001b[0m     \u001b[0;31m# parsed_data = json.loads(website_data)\u001b[0m\u001b[0;34m\u001b[0m\u001b[0;34m\u001b[0m\u001b[0;34m\u001b[0m\u001b[0m\n",
      "\u001b[0;31mNameError\u001b[0m: name 'response' is not defined"
     ]
    }
   ],
   "source": [
    "from telegram.ext import Updater, InlineQueryHandler, CommandHandler\n",
    "import requests\n",
    "import re\n",
    "from bs4 import BeautifulSoup as bs\n",
    "import random\n",
    "import json\n",
    "\n",
    "def get_url_weather():\n",
    "    website_url = \"https://www.metaweather.com/api/location/2295420/\"\n",
    "    website_data = requests.get(website_url).json()\n",
    "    print(website_data)    \n",
    "    current_weather = str(response['consolidated_weather'][0]['the_temp'])\n",
    "    # url = website_data[0][\"the_temp\"]\n",
    "    # parsed_data = json.loads(website_data)\n",
    " \n",
    "    # weather_data_dump = requests.get(weather_link).json()\n",
    "    print(current_weather)\n",
    "    return(current_weather)\n",
    "    # return(weather_data_dump[0][\"the_temp\"])\n",
    "    # parsed_weather_data = json.loads(weather_data_dump)\n",
    "    # weather_consolidated_data = parsed_weather_data[\"consolidated_weather\"]\n",
    "    \n",
    "get_url_weather()"
   ]
  }
 ],
 "metadata": {
  "kernelspec": {
   "display_name": "Python 3",
   "language": "python",
   "name": "python3"
  },
  "language_info": {
   "codemirror_mode": {
    "name": "ipython",
    "version": 3
   },
   "file_extension": ".py",
   "mimetype": "text/x-python",
   "name": "python",
   "nbconvert_exporter": "python",
   "pygments_lexer": "ipython3",
   "version": "3.6.7"
  }
 },
 "nbformat": 4,
 "nbformat_minor": 2
}
