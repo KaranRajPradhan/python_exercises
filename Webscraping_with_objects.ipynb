{
 "cells": [
  {
   "cell_type": "code",
   "execution_count": 2,
   "metadata": {},
   "outputs": [
    {
     "name": "stdout",
     "output_type": "stream",
     "text": [
      "https://wiki.postgresql.org/wiki/Don%27t_Do_This\n",
      "Don't Do This\n"
     ]
    }
   ],
   "source": [
    "import requests\n",
    "from bs4 import BeautifulSoup as bs\n",
    "\n",
    "link = \"https://news.ycombinator.com\"\n",
    "\n",
    "html_data = requests.get(link).content\n",
    "html_soup = bs(html_data)\n",
    "\n",
    "stories = html_soup.find_all(\"a\", {\"class\":\"storylink\"})\n",
    "\n",
    "print(stories[0].get(\"href\"))\n",
    "print(stories[0].text)"
   ]
  },
  {
   "cell_type": "code",
   "execution_count": 9,
   "metadata": {},
   "outputs": [
    {
     "name": "stdout",
     "output_type": "stream",
     "text": [
      "Found all stories! Printing links below:\n",
      "https://wiki.postgresql.org/wiki/Don%27t_Do_This\n",
      "https://www.bbc.co.uk/news/entertainment-arts-48111464\n",
      "https://www.inkandswitch.com/local-first.html\n",
      "https://www.quantamagazine.org/how-twisted-graphene-became-the-big-thing-in-physics-20190430/\n",
      "https://en.wikipedia.org/wiki/Group_f/64\n",
      "https://www.theguardian.com/society/2019/may/02/end-to-aids-in-sight-as-huge-study-finds-drugs-stop-hiv-transmission\n",
      "https://maddiestone.github.io/AndroidAppRE/\n",
      "https://www.bbc.com/news/technology-48118558\n",
      "https://about.gitlab.com/2019/05/02/gitlab-journey-from-azure-to-gcp/\n",
      "https://techcrunch.com/2019/05/02/verizon-reportedly-seeking-to-sell-tumblr/\n",
      "https://www.nature.com/articles/d41586-019-01318-z\n",
      "https://blog.plover.com/lang/math-jargon-failures.html\n",
      "https://www.caitlingreen.org/2019/04/king-alfred-and-india.html\n",
      "https://www.primepuzzles.net/puzzles/puzz_950.htm\n",
      "https://idursun.com/posts/zero_to_kubernetes/\n",
      "https://www.infoworld.com/article/2674702/techology-business-paul-graham-provides-stunning-answer-to-spam-e-mails.html\n",
      "https://www.ctvnews.ca/sci-tech/ai-tech-generates-entire-bodies-of-people-who-don-t-exist-1.4405165\n",
      "https://pdziepak.github.io/2019/05/02/on-lists-cache-algorithms-and-microarchitecture/\n",
      "https://jeremykun.com/2019/04/20/a-working-mathematicians-guide-to-parsing/\n",
      "https://engineeringblog.yelp.com/2019/05/introducing-bento.html\n",
      "https://www.theguardian.com/cities/2016/aug/19/lost-cities-10-fordlandia-failure-henry-ford-amazon\n",
      "https://techcrunch.com/2019/05/01/pluralsight-will-acquire-gitprime-for-170m/\n",
      "http://www.computer-museum.ru/english/argon16.htm\n",
      "https://mindchasers.com/dev/hw-mdio\n",
      "https://ttastechforgood.splashthat.com/\n",
      "https://www.cbc.ca/news/technology/permafrost-melting-1.5119767\n",
      "https://mindmatters.ai/2019/04/the-human-brain-even-basic-facts-are-hotly-contested/\n",
      "https://m.stopa.io/risp-lisp-in-rust-90a0dad5b116\n",
      "https://en.wikipedia.org/wiki/Emirp\n",
      "http://blog.chriszacharias.com/a-conspiracy-to-kill-ie6\n",
      "Printed all links! Printing titles below:\n",
      "Don't Do This\n",
      "Guardian records first operating profit since 1998\n",
      "Local-first software: You own your data, in spite of the cloud\n",
      "Twisted graphene has become the big thing in physics\n",
      "Group F/64\n",
      "Huge study finds drugs stop HIV transmission\n",
      "Android App Reverse Engineering 101\n",
      "Phone and laptop searches at US border 'quadruple'\n",
      "Gitlab's Journey from Azure to GCP\n",
      "Verizon reportedly seeking to sell Tumblr\n",
      "New physics needed to probe the origins of life\n",
      "Mathematical Jargon Failures\n",
      "King Alfred and India\n",
      "What is the largest bi-truncatable prime?\n",
      "Zero to Kubernetes on Azure\n",
      "Paul Graham provides answer to spam emails (2002)\n",
      "AI tech generates entire bodies of people who don't exist\n",
      "On lists, cache, algorithms, and microarchitecture\n",
      "A Working Mathematician’s Guide to Parsing\n",
      "Bento – An Android UI Framework\n",
      "Fordlandia – the failure of Henry Ford's utopian city in the Amazon (2016)\n",
      "Pluralsight will acquire GitPrime for $170M\n",
      "Argon-16 Computer\n",
      "Ethernet MDIO / MMD Design for FPGA Open Source Network Processor\n",
      "Flexport is hiring senior engineers in SF – Come get to know us\n",
      "Permafrost is thawing in the Arctic so fast scientists lost their equipment\n",
      "The Human Brain: Even Basic Facts Are Hotly Contested\n",
      "Show HN: Risp – Lisp in Rust\n",
      "Emirp Primes\n",
      "A Conspiracy to Kill IE6\n"
     ]
    }
   ],
   "source": [
    "class HackerNews(object):\n",
    "    def __init__(self, link):\n",
    "        self.response = requests.get(link)\n",
    "        self.html = self.response.content\n",
    "        self.parsed_data = bs(self.html)\n",
    "        self.stories = None\n",
    "        \n",
    "    def get_stories(self):\n",
    "        self.stories = self.parsed_data.find_all(\"a\", {\"class\":\"storylink\"})\n",
    "    \n",
    "    def get_links(self):\n",
    "        for story in self.stories:\n",
    "            print(story.get(\"href\"))\n",
    "        \n",
    "    def get_titles(self):\n",
    "        for story in self.stories:\n",
    "            print(story.text)\n",
    "            \n",
    "hn = HackerNews(link)\n",
    "\n",
    "hn.get_stories()\n",
    "print(\"Found all stories! Printing links below:\")\n",
    "hn.get_links()\n",
    "print(\"Printed all links! Printing titles below:\")\n",
    "hn.get_titles()"
   ]
  },
  {
   "cell_type": "code",
   "execution_count": 6,
   "metadata": {},
   "outputs": [],
   "source": []
  }
 ],
 "metadata": {
  "kernelspec": {
   "display_name": "Python 3",
   "language": "python",
   "name": "python3"
  },
  "language_info": {
   "codemirror_mode": {
    "name": "ipython",
    "version": 3
   },
   "file_extension": ".py",
   "mimetype": "text/x-python",
   "name": "python",
   "nbconvert_exporter": "python",
   "pygments_lexer": "ipython3",
   "version": "3.6.7"
  }
 },
 "nbformat": 4,
 "nbformat_minor": 2
}
