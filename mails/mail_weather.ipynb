{
 "cells": [
  {
   "cell_type": "code",
   "execution_count": 17,
   "metadata": {},
   "outputs": [
    {
     "name": "stdout",
     "output_type": "stream",
     "text": [
      "Enter your password: Agnee1234\n"
     ]
    },
    {
     "ename": "KeyboardInterrupt",
     "evalue": "",
     "output_type": "error",
     "traceback": [
      "\u001b[0;31m---------------------------------------------------------------------------\u001b[0m",
      "\u001b[0;31mKeyboardInterrupt\u001b[0m                         Traceback (most recent call last)",
      "\u001b[0;32m<ipython-input-17-0d31859a17b1>\u001b[0m in \u001b[0;36m<module>\u001b[0;34m\u001b[0m\n\u001b[1;32m     55\u001b[0m         \u001b[0mx\u001b[0m \u001b[0;34m=\u001b[0m \u001b[0mdate\u001b[0m\u001b[0;34m.\u001b[0m\u001b[0mtoday\u001b[0m\u001b[0;34m(\u001b[0m\u001b[0;34m)\u001b[0m\u001b[0;34m\u001b[0m\u001b[0;34m\u001b[0m\u001b[0m\n\u001b[1;32m     56\u001b[0m         \u001b[0mparse_weather\u001b[0m\u001b[0;34m(\u001b[0m\u001b[0;34m)\u001b[0m\u001b[0;34m\u001b[0m\u001b[0;34m\u001b[0m\u001b[0m\n\u001b[0;32m---> 57\u001b[0;31m     \u001b[0mtime\u001b[0m\u001b[0;34m.\u001b[0m\u001b[0msleep\u001b[0m\u001b[0;34m(\u001b[0m\u001b[0;36m60\u001b[0m\u001b[0;34m)\u001b[0m\u001b[0;34m\u001b[0m\u001b[0;34m\u001b[0m\u001b[0m\n\u001b[0m",
      "\u001b[0;31mKeyboardInterrupt\u001b[0m: "
     ]
    }
   ],
   "source": [
    "# Python code to illustrate sending mail from your gmail account\n",
    "\n",
    "import smtplib\n",
    "import requests\n",
    "import json\n",
    "from datetime import date\n",
    "import time\n",
    "\n",
    "\n",
    "def send_mail(str_to_send):\n",
    "    #creates SMTP session\n",
    "    s = smtplib.SMTP(\"smtp.gmail.com\", 587)\n",
    "\n",
    "    #start TLS for security\n",
    "    s.starttls()\n",
    "    \n",
    "    print(\"A\")\n",
    "    \n",
    "\n",
    "    #Authentication\n",
    "    s.login(\"karanpradhan96@gmail.com\", password)\n",
    "\n",
    "    #sending the mail\n",
    "    from_email = \"karanpradhan96@gmail.com\"\n",
    "    to_email = (\"karan@iotready.co\")\n",
    "\n",
    "    s.sendmail(from_email, to_email, str_to_send)\n",
    "\n",
    "\n",
    "    #terminating the session\n",
    "    s.quit()\n",
    "\n",
    "def parse_weather():\n",
    "    url = \"https://www.metaweather.com/api/location/2295420/\"\n",
    "\n",
    "    website_data = requests.get(url).content\n",
    "\n",
    "    parsed_data = json.loads(website_data)\n",
    "\n",
    "    weather_consolidated_data = parsed_data[\"consolidated_weather\"]\n",
    "\n",
    "    if \"Rain\" in weather_consolidated_data[0][\"weather_state_name\"]:\n",
    "        str_to_send = f\"There is {weather_consolidated_data[0]['predictability']}% chances of {weather_consolidated_data[0]['weather_state_name']} today\"\n",
    "    else:\n",
    "        str_to_send = f\"There is {weather_consolidated_data[0]['predictability']}% chances of no rain today\"\n",
    "\n",
    "    send_mail(str_to_send)\n",
    "\n",
    "password = input(\"Enter your password: \")\n",
    "x = date.today()\n",
    "\n",
    "while True:\n",
    "    if date.today() != x:\n",
    "        x = date.today()\n",
    "        parse_weather()\n",
    "    time.sleep(60)\n"
   ]
  },
  {
   "cell_type": "code",
   "execution_count": null,
   "metadata": {},
   "outputs": [],
   "source": []
  },
  {
   "cell_type": "code",
   "execution_count": null,
   "metadata": {},
   "outputs": [],
   "source": []
  },
  {
   "cell_type": "code",
   "execution_count": null,
   "metadata": {},
   "outputs": [],
   "source": []
  }
 ],
 "metadata": {
  "kernelspec": {
   "display_name": "Python 3",
   "language": "python",
   "name": "python3"
  },
  "language_info": {
   "codemirror_mode": {
    "name": "ipython",
    "version": 3
   },
   "file_extension": ".py",
   "mimetype": "text/x-python",
   "name": "python",
   "nbconvert_exporter": "python",
   "pygments_lexer": "ipython3",
   "version": "3.6.7"
  }
 },
 "nbformat": 4,
 "nbformat_minor": 2
}
